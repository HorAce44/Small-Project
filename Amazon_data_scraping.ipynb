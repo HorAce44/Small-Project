{
 "cells": [
  {
   "cell_type": "code",
   "execution_count": 2,
   "metadata": {},
   "outputs": [],
   "source": [
    "#import libraries\n",
    "\n",
    "from bs4 import BeautifulSoup\n",
    "import selenium.webdriver\n",
    "from selenium.webdriver.common.action_chains import ActionChains\n",
    "import pandas as pd\n",
    "import datetime\n",
    "import requests\n",
    "import time\n",
    "import smtplib"
   ]
  },
  {
   "cell_type": "code",
   "execution_count": 11,
   "metadata": {},
   "outputs": [],
   "source": [
    "#Connect to the website and pull the data\n",
    "\n",
    "URL = 'https://www.amazon.com/s?k=headphones'\n",
    "\n",
    "headers = {\"User-Agent\": \"Mozilla/5.0 (Windows NT 10.0; Win64; x64) AppleWebKit/537.36 (KHTML, like Gecko) Chrome/120.0.0.0 Safari/537.36\", \"Accept-Encoding\":\"gzip, deflate\", \"Accept\":\"text/html,application/xhtml+xml,application/xml;q=0.9,*/*;q=0.8\", \"DNT\":\"1\",\"Connection\":\"close\", \"Upgrade-Insecure-Requests\":\"1\"}\n",
    "\n",
    "page = requests.get(URL, headers=headers)\n",
    "\n",
    "page_soup = BeautifulSoup(page.content,\"html.parser\")\n",
    "\n",
    "page_soup_prettify = BeautifulSoup(page_soup.prettify(), \"html.parser\")"
   ]
  },
  {
   "cell_type": "code",
   "execution_count": null,
   "metadata": {},
   "outputs": [],
   "source": [
    "links = page_soup_prettify.find_all('a', class_='a-link-normal s-underline-text s-underline-link-text s-link-style a-text-normal', href=True)\n",
    "\n",
    "data = []\n",
    "\n",
    "\n",
    "for link in links:\n",
    "    # Get the URL from the href attribute\n",
    "    item_url = \"https://www.amazon.com\" + link['href']\n",
    "    print(item_url)\n",
    "        \n",
    "    # Do something with the URL (print, store, etc.)\n",
    "    URL = item_url\n",
    "    \n",
    "    try:\n",
    "\n",
    "        page = requests.get(URL, headers=headers)\n",
    "        page_soup = BeautifulSoup(page.content,\"html.parser\")\n",
    "\n",
    "        page_soup_prettify = BeautifulSoup(page_soup.prettify(), \"html.parser\")\n",
    "\n",
    "        product_title = page_soup_prettify.find(id='productTitle').get_text()\n",
    "        product_title = product_title.strip()\n",
    "        product_price_1 = page_soup_prettify.find(class_='a-price-whole')\n",
    "\n",
    "        if product_price_1 :\n",
    "            # Find and extract text from all direct child elements that are not spans\n",
    "            product_price_1= ' '.join([child.get_text(strip=True) for child in product_price_1.children if child.name != 'span'])\n",
    "        else:\n",
    "            print(\"No element with the specified parent class found.\")\n",
    "\n",
    "\n",
    "        product_price_2 = page_soup_prettify.find(class_='a-price-fraction').get_text().strip()\n",
    "        product_price_1 = product_price_1.strip()\n",
    "\n",
    "        # Concatenate the two parts and remove extra spaces\n",
    "        whole_price = product_price_1 + \".\" + product_price_2\n",
    "        data.append({'Item URL': item_url, 'Product Title': product_title, 'Product Price': whole_price})\n",
    "\n",
    "    except:\n",
    "        print(\"Connection refused by the server..\")\n",
    "        print(\"Let me sleep for 5 seconds\")\n",
    "        print(\"ZZzzzz...\")\n",
    "        time.sleep(5)\n",
    "        print(\"Was a nice sleep, now let me continue...\")\n",
    "        continue\n",
    "\n",
    "\n",
    "df = pd.DataFrame(data)\n",
    "\n",
    "# Save the DataFrame to an Excel file\n",
    "df.to_excel('amazon_data.xlsx', index=False)\n",
    "\n",
    "print(\"Data saved to 'amazon_data.xlsx'\")\n",
    "    "
   ]
  }
 ],
 "metadata": {
  "kernelspec": {
   "display_name": "Python 3",
   "language": "python",
   "name": "python3"
  },
  "language_info": {
   "codemirror_mode": {
    "name": "ipython",
    "version": 3
   },
   "file_extension": ".py",
   "mimetype": "text/x-python",
   "name": "python",
   "nbconvert_exporter": "python",
   "pygments_lexer": "ipython3",
   "version": "3.12.1"
  }
 },
 "nbformat": 4,
 "nbformat_minor": 2
}
