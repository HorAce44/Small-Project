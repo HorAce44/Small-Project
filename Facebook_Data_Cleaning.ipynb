{
  "cells": [
    {
      "cell_type": "code",
      "execution_count": null,
      "metadata": {
        "colab": {
          "base_uri": "https://localhost:8080/"
        },
        "id": "9PPE5SFqqPuZ",
        "outputId": "c786237c-fee2-400d-e76f-30a7237a07fb"
      },
      "outputs": [
        {
          "output_type": "stream",
          "name": "stdout",
          "text": [
            "Requirement already satisfied: pandas in /usr/local/lib/python3.10/dist-packages (1.5.3)\n",
            "Requirement already satisfied: python-dateutil>=2.8.1 in /usr/local/lib/python3.10/dist-packages (from pandas) (2.8.2)\n",
            "Requirement already satisfied: pytz>=2020.1 in /usr/local/lib/python3.10/dist-packages (from pandas) (2023.3.post1)\n",
            "Requirement already satisfied: numpy>=1.21.0 in /usr/local/lib/python3.10/dist-packages (from pandas) (1.23.5)\n",
            "Requirement already satisfied: six>=1.5 in /usr/local/lib/python3.10/dist-packages (from python-dateutil>=2.8.1->pandas) (1.16.0)\n"
          ]
        }
      ],
      "source": [
        "!pip install pandas"
      ]
    },
    {
      "cell_type": "code",
      "execution_count": null,
      "metadata": {
        "id": "-7w0y01VqUMs"
      },
      "outputs": [],
      "source": [
        "import pandas as pd"
      ]
    },
    {
      "cell_type": "code",
      "execution_count": null,
      "metadata": {
        "id": "nGkLaNyCa1Gv"
      },
      "outputs": [],
      "source": [
        "import matplotlib.pyplot as plt"
      ]
    },
    {
      "cell_type": "code",
      "execution_count": null,
      "metadata": {
        "colab": {
          "base_uri": "https://localhost:8080/"
        },
        "id": "tAq4MmqlpqJR",
        "outputId": "cf4cb0e2-2999-450e-a45d-35cd76003812"
      },
      "outputs": [
        {
          "output_type": "stream",
          "name": "stdout",
          "text": [
            "Drive already mounted at /content/drive; to attempt to forcibly remount, call drive.mount(\"/content/drive\", force_remount=True).\n"
          ]
        }
      ],
      "source": [
        "from google.colab import drive\n",
        "drive.mount('/content/drive')"
      ]
    },
    {
      "cell_type": "code",
      "execution_count": null,
      "metadata": {
        "id": "ve6Q2kZfpzM3"
      },
      "outputs": [],
      "source": [
        "file_path = '/content/drive/MyDrive/Data Cleaning/Review & Comment Data.xlsx'"
      ]
    },
    {
      "cell_type": "code",
      "execution_count": null,
      "metadata": {
        "id": "OeluMqUwqXU6"
      },
      "outputs": [],
      "source": [
        "# Read the XLSX file into a DataFrame\n",
        "df = pd.read_excel(file_path)"
      ]
    },
    {
      "cell_type": "markdown",
      "metadata": {
        "id": "ywrBfiwomdU9"
      },
      "source": [
        "REMOVE EMOJI"
      ]
    },
    {
      "cell_type": "code",
      "execution_count": null,
      "metadata": {
        "id": "9Bus7VHsmOhT"
      },
      "outputs": [],
      "source": [
        "import re\n",
        "\n",
        "def remove_emojis(text):\n",
        "    # Define a regular expression pattern to match emojis\n",
        "    emoji_pattern = re.compile(\"[\"\n",
        "                           u\"\\U0001F600-\\U0001F64F\"  # Emoticons\n",
        "                           u\"\\U0001F300-\\U0001F5FF\"  # Symbols & Pictographs\n",
        "                           u\"\\U0001F680-\\U0001F6FF\"  # Transport & Map Symbols\n",
        "                           u\"\\U0001F700-\\U0001F77F\"  # Alchemical Symbols\n",
        "                           u\"\\U0001F780-\\U0001F7FF\"  # Geometric Shapes Extended\n",
        "                           u\"\\U0001F800-\\U0001F8FF\"  # Supplemental Arrows-C\n",
        "                           u\"\\U0001F900-\\U0001F9FF\"  # Supplemental Symbols and Pictographs\n",
        "                           u\"\\U0001FA00-\\U0001FA6F\"  # Chess Symbols\n",
        "                           u\"\\U0001FA70-\\U0001FAFF\"  # Symbols and Pictographs Extended-A\n",
        "                           u\"\\U0001F004-\\U0001F0CF\"  # Miscellaneous Symbols and Pictographs\n",
        "                           u\"\\U0001F170-\\U0001F251\"  # Enclosed Characters\n",
        "                           \"]+\", flags=re.UNICODE)\n",
        "\n",
        "    # Remove emojis using the regular expression\n",
        "    return emoji_pattern.sub(r'', text)"
      ]
    },
    {
      "cell_type": "code",
      "execution_count": null,
      "metadata": {
        "id": "O1gHA8_Mv-W4"
      },
      "outputs": [],
      "source": [
        "df['text'] = df['text'].astype(str)\n",
        "df['text'] = df['text'].apply(remove_emojis)"
      ]
    },
    {
      "cell_type": "markdown",
      "metadata": {
        "id": "pMzOgfO5nMqB"
      },
      "source": [
        "REMOVE LINK FROM COMMENT"
      ]
    },
    {
      "cell_type": "code",
      "execution_count": null,
      "metadata": {
        "id": "MMSCDAHLmwS3"
      },
      "outputs": [],
      "source": [
        "def remove_links(text):\n",
        "    return re.sub(r'https?://\\S+', '', text)"
      ]
    },
    {
      "cell_type": "code",
      "execution_count": null,
      "metadata": {
        "id": "3vxLWgnrxHFm"
      },
      "outputs": [],
      "source": [
        "df['text'] = df['text'].apply(remove_links)"
      ]
    },
    {
      "cell_type": "markdown",
      "metadata": {
        "id": "FPfT6gNmx8Xs"
      },
      "source": [
        "REMOVE HASHTAG\n"
      ]
    },
    {
      "cell_type": "code",
      "execution_count": null,
      "metadata": {
        "id": "wqwX8twwncwN"
      },
      "outputs": [],
      "source": [
        "def remove_hashtags(text):\n",
        "    return re.sub(r'#\\w+', '', text)"
      ]
    },
    {
      "cell_type": "code",
      "execution_count": null,
      "metadata": {
        "id": "a0ffqmgNx3PS"
      },
      "outputs": [],
      "source": [
        "df['text'] = df['text'].apply(remove_hashtags)"
      ]
    },
    {
      "cell_type": "markdown",
      "metadata": {
        "id": "GRGJedDy0XGU"
      },
      "source": [
        "REMOVE REDUNDANT COMMENT"
      ]
    },
    {
      "cell_type": "code",
      "execution_count": null,
      "metadata": {
        "id": "pdH_Kx4m0V8j"
      },
      "outputs": [],
      "source": [
        "df = df.drop_duplicates(subset='text', keep='first')"
      ]
    },
    {
      "cell_type": "markdown",
      "metadata": {
        "id": "g2iBIrLEU9eo"
      },
      "source": [
        "CHECK IF ANY DUPLICATES EXISTS"
      ]
    },
    {
      "cell_type": "code",
      "execution_count": null,
      "metadata": {
        "colab": {
          "base_uri": "https://localhost:8080/"
        },
        "id": "5cJwmO880ifW",
        "outputId": "5934b480-8eea-4e56-9cc0-de4a558525e0"
      },
      "outputs": [
        {
          "name": "stdout",
          "output_type": "stream",
          "text": [
            "No duplicates found in the DataFrame.\n"
          ]
        }
      ],
      "source": [
        "duplicates_exist = df.duplicated().any()\n",
        "\n",
        "# Print the result\n",
        "if duplicates_exist:\n",
        "    print(\"Duplicates exist in the DataFrame.\")\n",
        "else:\n",
        "    print(\"No duplicates found in the DataFrame.\")"
      ]
    },
    {
      "cell_type": "code",
      "execution_count": null,
      "metadata": {
        "colab": {
          "base_uri": "https://localhost:8080/"
        },
        "id": "fkb3JuvHVgCu",
        "outputId": "2fe2df37-c7c3-4fc6-dbbf-65b379fa0786"
      },
      "outputs": [
        {
          "data": {
            "text/plain": [
              "1026"
            ]
          },
          "execution_count": 13,
          "metadata": {},
          "output_type": "execute_result"
        }
      ],
      "source": [
        "len(df)"
      ]
    },
    {
      "cell_type": "code",
      "execution_count": null,
      "metadata": {
        "colab": {
          "base_uri": "https://localhost:8080/"
        },
        "id": "SqUipkaQVpfA",
        "outputId": "7bb6dd19-be8e-4647-ba5f-0ce5dc3a13ac"
      },
      "outputs": [
        {
          "name": "stdout",
          "output_type": "stream",
          "text": [
            "DataFrame exported to /content/drive/MyDrive/Data Cleaning/output.xlsx\n"
          ]
        }
      ],
      "source": [
        "file_path = '/content/drive/MyDrive/Data Cleaning/output.xlsx'\n",
        "\n",
        "# Export the DataFrame to the specified Excel file\n",
        "df.to_excel(file_path, index=False)\n",
        "\n",
        "print(f\"DataFrame exported to {file_path}\")"
      ]
    },
    {
      "cell_type": "code",
      "execution_count": null,
      "metadata": {
        "id": "MES3ZqrOwC6D"
      },
      "outputs": [],
      "source": [
        "excel_file_path = 'your_excel_file.xlsx'"
      ]
    },
    {
      "cell_type": "markdown",
      "metadata": {
        "id": "sb3kZjmXW9RN"
      },
      "source": [
        "VISUALIZATION - TOPIC BASED ON HOW MANY COMMENTS"
      ]
    },
    {
      "cell_type": "code",
      "execution_count": null,
      "metadata": {
        "id": "wU5qOXydXqHV"
      },
      "outputs": [],
      "source": [
        "file_path = '/content/drive/MyDrive/Data Cleaning/Merge.xlsx'"
      ]
    },
    {
      "cell_type": "code",
      "execution_count": null,
      "metadata": {
        "id": "RBFXkZseXwuP"
      },
      "outputs": [],
      "source": [
        "df = pd.read_excel(file_path)"
      ]
    },
    {
      "cell_type": "code",
      "execution_count": null,
      "metadata": {
        "colab": {
          "base_uri": "https://localhost:8080/",
          "height": 597
        },
        "id": "zsyRi-AYX0IJ",
        "outputId": "5b13c161-33d5-4f7c-d9a7-d163b39e02ee"
      },
      "outputs": [
        {
          "data": {
            "text/html": [
              "\n",
              "  <div id=\"df-ae35685e-03eb-44f9-9175-e61ba7688cc9\" class=\"colab-df-container\">\n",
              "    <div>\n",
              "<style scoped>\n",
              "    .dataframe tbody tr th:only-of-type {\n",
              "        vertical-align: middle;\n",
              "    }\n",
              "\n",
              "    .dataframe tbody tr th {\n",
              "        vertical-align: top;\n",
              "    }\n",
              "\n",
              "    .dataframe thead th {\n",
              "        text-align: right;\n",
              "    }\n",
              "</style>\n",
              "<table border=\"1\" class=\"dataframe\">\n",
              "  <thead>\n",
              "    <tr style=\"text-align: right;\">\n",
              "      <th></th>\n",
              "      <th>postTitle</th>\n",
              "      <th>postDescription</th>\n",
              "      <th>text</th>\n",
              "      <th>likesCount</th>\n",
              "      <th>facebookUrl</th>\n",
              "    </tr>\n",
              "  </thead>\n",
              "  <tbody>\n",
              "    <tr>\n",
              "      <th>0</th>\n",
              "      <td>Assalaamualaikum. Nk tumpang tanya ni, kut2 or...</td>\n",
              "      <td>NaN</td>\n",
              "      <td>Beli racun anai2 ni.. katanya mapuh abis sampa...</td>\n",
              "      <td>0</td>\n",
              "      <td>https://www.facebook.com/groups/33538423328964...</td>\n",
              "    </tr>\n",
              "    <tr>\n",
              "      <th>1</th>\n",
              "      <td>Assalaamualaikum. Nk tumpang tanya ni, kut2 or...</td>\n",
              "      <td>NaN</td>\n",
              "      <td>Ustaz kazim ada bgtahu suruh bela semut..sbb a...</td>\n",
              "      <td>0</td>\n",
              "      <td>https://www.facebook.com/groups/33538423328964...</td>\n",
              "    </tr>\n",
              "    <tr>\n",
              "      <th>2</th>\n",
              "      <td>Assalaamualaikum. Nk tumpang tanya ni, kut2 or...</td>\n",
              "      <td>NaN</td>\n",
              "      <td>💵💰PINJAMAN WANG BERLESEN  💰💵\\nNak Buat Loan Ta...</td>\n",
              "      <td>0</td>\n",
              "      <td>https://www.facebook.com/groups/33538423328964...</td>\n",
              "    </tr>\n",
              "    <tr>\n",
              "      <th>3</th>\n",
              "      <td>Assalaamualaikum. Nk tumpang tanya ni, kut2 or...</td>\n",
              "      <td>NaN</td>\n",
              "      <td>NaN</td>\n",
              "      <td>1</td>\n",
              "      <td>https://www.facebook.com/groups/33538423328964...</td>\n",
              "    </tr>\n",
              "    <tr>\n",
              "      <th>4</th>\n",
              "      <td>Assalaamualaikum. Nk tumpang tanya ni, kut2 or...</td>\n",
              "      <td>NaN</td>\n",
              "      <td>NaN</td>\n",
              "      <td>0</td>\n",
              "      <td>https://www.facebook.com/groups/33538423328964...</td>\n",
              "    </tr>\n",
              "    <tr>\n",
              "      <th>...</th>\n",
              "      <td>...</td>\n",
              "      <td>...</td>\n",
              "      <td>...</td>\n",
              "      <td>...</td>\n",
              "      <td>...</td>\n",
              "    </tr>\n",
              "    <tr>\n",
              "      <th>9123</th>\n",
              "      <td>Kandang Haram Atas Tapak Rizab Masjid Diroboh\\...</td>\n",
              "      <td>NaN</td>\n",
              "      <td>Org kita xpe jgk. Ini puak depa. Lpstu tuntut ...</td>\n",
              "      <td>0</td>\n",
              "      <td>https://fb.watch/noGzFLEEnM/</td>\n",
              "    </tr>\n",
              "    <tr>\n",
              "      <th>9124</th>\n",
              "      <td>Kandang Haram Atas Tapak Rizab Masjid Diroboh\\...</td>\n",
              "      <td>NaN</td>\n",
              "      <td>pelihara lembu.bukan nya   makan lembu</td>\n",
              "      <td>0</td>\n",
              "      <td>https://fb.watch/noGzFLEEnM/</td>\n",
              "    </tr>\n",
              "    <tr>\n",
              "      <th>9125</th>\n",
              "      <td>Kandang Haram Atas Tapak Rizab Masjid Diroboh\\...</td>\n",
              "      <td>NaN</td>\n",
              "      <td>Buat aper nak ganti2 atau bagi tanah lain ?.. ...</td>\n",
              "      <td>0</td>\n",
              "      <td>https://fb.watch/noGzFLEEnM/</td>\n",
              "    </tr>\n",
              "    <tr>\n",
              "      <th>9126</th>\n",
              "      <td>Kandang Haram Atas Tapak Rizab Masjid Diroboh\\...</td>\n",
              "      <td>NaN</td>\n",
              "      <td>naik kan masjid.. nama pun tapak haram..</td>\n",
              "      <td>0</td>\n",
              "      <td>https://fb.watch/noGzFLEEnM/</td>\n",
              "    </tr>\n",
              "    <tr>\n",
              "      <th>9127</th>\n",
              "      <td>Kandang Haram Atas Tapak Rizab Masjid Diroboh\\...</td>\n",
              "      <td>NaN</td>\n",
              "      <td>NK bisness atas tanah free je...dasar biawak</td>\n",
              "      <td>0</td>\n",
              "      <td>https://fb.watch/noGzFLEEnM/</td>\n",
              "    </tr>\n",
              "  </tbody>\n",
              "</table>\n",
              "<p>9128 rows × 5 columns</p>\n",
              "</div>\n",
              "    <div class=\"colab-df-buttons\">\n",
              "\n",
              "  <div class=\"colab-df-container\">\n",
              "    <button class=\"colab-df-convert\" onclick=\"convertToInteractive('df-ae35685e-03eb-44f9-9175-e61ba7688cc9')\"\n",
              "            title=\"Convert this dataframe to an interactive table.\"\n",
              "            style=\"display:none;\">\n",
              "\n",
              "  <svg xmlns=\"http://www.w3.org/2000/svg\" height=\"24px\" viewBox=\"0 -960 960 960\">\n",
              "    <path d=\"M120-120v-720h720v720H120Zm60-500h600v-160H180v160Zm220 220h160v-160H400v160Zm0 220h160v-160H400v160ZM180-400h160v-160H180v160Zm440 0h160v-160H620v160ZM180-180h160v-160H180v160Zm440 0h160v-160H620v160Z\"/>\n",
              "  </svg>\n",
              "    </button>\n",
              "\n",
              "  <style>\n",
              "    .colab-df-container {\n",
              "      display:flex;\n",
              "      gap: 12px;\n",
              "    }\n",
              "\n",
              "    .colab-df-convert {\n",
              "      background-color: #E8F0FE;\n",
              "      border: none;\n",
              "      border-radius: 50%;\n",
              "      cursor: pointer;\n",
              "      display: none;\n",
              "      fill: #1967D2;\n",
              "      height: 32px;\n",
              "      padding: 0 0 0 0;\n",
              "      width: 32px;\n",
              "    }\n",
              "\n",
              "    .colab-df-convert:hover {\n",
              "      background-color: #E2EBFA;\n",
              "      box-shadow: 0px 1px 2px rgba(60, 64, 67, 0.3), 0px 1px 3px 1px rgba(60, 64, 67, 0.15);\n",
              "      fill: #174EA6;\n",
              "    }\n",
              "\n",
              "    .colab-df-buttons div {\n",
              "      margin-bottom: 4px;\n",
              "    }\n",
              "\n",
              "    [theme=dark] .colab-df-convert {\n",
              "      background-color: #3B4455;\n",
              "      fill: #D2E3FC;\n",
              "    }\n",
              "\n",
              "    [theme=dark] .colab-df-convert:hover {\n",
              "      background-color: #434B5C;\n",
              "      box-shadow: 0px 1px 3px 1px rgba(0, 0, 0, 0.15);\n",
              "      filter: drop-shadow(0px 1px 2px rgba(0, 0, 0, 0.3));\n",
              "      fill: #FFFFFF;\n",
              "    }\n",
              "  </style>\n",
              "\n",
              "    <script>\n",
              "      const buttonEl =\n",
              "        document.querySelector('#df-ae35685e-03eb-44f9-9175-e61ba7688cc9 button.colab-df-convert');\n",
              "      buttonEl.style.display =\n",
              "        google.colab.kernel.accessAllowed ? 'block' : 'none';\n",
              "\n",
              "      async function convertToInteractive(key) {\n",
              "        const element = document.querySelector('#df-ae35685e-03eb-44f9-9175-e61ba7688cc9');\n",
              "        const dataTable =\n",
              "          await google.colab.kernel.invokeFunction('convertToInteractive',\n",
              "                                                    [key], {});\n",
              "        if (!dataTable) return;\n",
              "\n",
              "        const docLinkHtml = 'Like what you see? Visit the ' +\n",
              "          '<a target=\"_blank\" href=https://colab.research.google.com/notebooks/data_table.ipynb>data table notebook</a>'\n",
              "          + ' to learn more about interactive tables.';\n",
              "        element.innerHTML = '';\n",
              "        dataTable['output_type'] = 'display_data';\n",
              "        await google.colab.output.renderOutput(dataTable, element);\n",
              "        const docLink = document.createElement('div');\n",
              "        docLink.innerHTML = docLinkHtml;\n",
              "        element.appendChild(docLink);\n",
              "      }\n",
              "    </script>\n",
              "  </div>\n",
              "\n",
              "\n",
              "<div id=\"df-dd9dc4a7-a96e-43eb-a54a-2ca8cf9b308e\">\n",
              "  <button class=\"colab-df-quickchart\" onclick=\"quickchart('df-dd9dc4a7-a96e-43eb-a54a-2ca8cf9b308e')\"\n",
              "            title=\"Suggest charts.\"\n",
              "            style=\"display:none;\">\n",
              "\n",
              "<svg xmlns=\"http://www.w3.org/2000/svg\" height=\"24px\"viewBox=\"0 0 24 24\"\n",
              "     width=\"24px\">\n",
              "    <g>\n",
              "        <path d=\"M19 3H5c-1.1 0-2 .9-2 2v14c0 1.1.9 2 2 2h14c1.1 0 2-.9 2-2V5c0-1.1-.9-2-2-2zM9 17H7v-7h2v7zm4 0h-2V7h2v10zm4 0h-2v-4h2v4z\"/>\n",
              "    </g>\n",
              "</svg>\n",
              "  </button>\n",
              "\n",
              "<style>\n",
              "  .colab-df-quickchart {\n",
              "      --bg-color: #E8F0FE;\n",
              "      --fill-color: #1967D2;\n",
              "      --hover-bg-color: #E2EBFA;\n",
              "      --hover-fill-color: #174EA6;\n",
              "      --disabled-fill-color: #AAA;\n",
              "      --disabled-bg-color: #DDD;\n",
              "  }\n",
              "\n",
              "  [theme=dark] .colab-df-quickchart {\n",
              "      --bg-color: #3B4455;\n",
              "      --fill-color: #D2E3FC;\n",
              "      --hover-bg-color: #434B5C;\n",
              "      --hover-fill-color: #FFFFFF;\n",
              "      --disabled-bg-color: #3B4455;\n",
              "      --disabled-fill-color: #666;\n",
              "  }\n",
              "\n",
              "  .colab-df-quickchart {\n",
              "    background-color: var(--bg-color);\n",
              "    border: none;\n",
              "    border-radius: 50%;\n",
              "    cursor: pointer;\n",
              "    display: none;\n",
              "    fill: var(--fill-color);\n",
              "    height: 32px;\n",
              "    padding: 0;\n",
              "    width: 32px;\n",
              "  }\n",
              "\n",
              "  .colab-df-quickchart:hover {\n",
              "    background-color: var(--hover-bg-color);\n",
              "    box-shadow: 0 1px 2px rgba(60, 64, 67, 0.3), 0 1px 3px 1px rgba(60, 64, 67, 0.15);\n",
              "    fill: var(--button-hover-fill-color);\n",
              "  }\n",
              "\n",
              "  .colab-df-quickchart-complete:disabled,\n",
              "  .colab-df-quickchart-complete:disabled:hover {\n",
              "    background-color: var(--disabled-bg-color);\n",
              "    fill: var(--disabled-fill-color);\n",
              "    box-shadow: none;\n",
              "  }\n",
              "\n",
              "  .colab-df-spinner {\n",
              "    border: 2px solid var(--fill-color);\n",
              "    border-color: transparent;\n",
              "    border-bottom-color: var(--fill-color);\n",
              "    animation:\n",
              "      spin 1s steps(1) infinite;\n",
              "  }\n",
              "\n",
              "  @keyframes spin {\n",
              "    0% {\n",
              "      border-color: transparent;\n",
              "      border-bottom-color: var(--fill-color);\n",
              "      border-left-color: var(--fill-color);\n",
              "    }\n",
              "    20% {\n",
              "      border-color: transparent;\n",
              "      border-left-color: var(--fill-color);\n",
              "      border-top-color: var(--fill-color);\n",
              "    }\n",
              "    30% {\n",
              "      border-color: transparent;\n",
              "      border-left-color: var(--fill-color);\n",
              "      border-top-color: var(--fill-color);\n",
              "      border-right-color: var(--fill-color);\n",
              "    }\n",
              "    40% {\n",
              "      border-color: transparent;\n",
              "      border-right-color: var(--fill-color);\n",
              "      border-top-color: var(--fill-color);\n",
              "    }\n",
              "    60% {\n",
              "      border-color: transparent;\n",
              "      border-right-color: var(--fill-color);\n",
              "    }\n",
              "    80% {\n",
              "      border-color: transparent;\n",
              "      border-right-color: var(--fill-color);\n",
              "      border-bottom-color: var(--fill-color);\n",
              "    }\n",
              "    90% {\n",
              "      border-color: transparent;\n",
              "      border-bottom-color: var(--fill-color);\n",
              "    }\n",
              "  }\n",
              "</style>\n",
              "\n",
              "  <script>\n",
              "    async function quickchart(key) {\n",
              "      const quickchartButtonEl =\n",
              "        document.querySelector('#' + key + ' button');\n",
              "      quickchartButtonEl.disabled = true;  // To prevent multiple clicks.\n",
              "      quickchartButtonEl.classList.add('colab-df-spinner');\n",
              "      try {\n",
              "        const charts = await google.colab.kernel.invokeFunction(\n",
              "            'suggestCharts', [key], {});\n",
              "      } catch (error) {\n",
              "        console.error('Error during call to suggestCharts:', error);\n",
              "      }\n",
              "      quickchartButtonEl.classList.remove('colab-df-spinner');\n",
              "      quickchartButtonEl.classList.add('colab-df-quickchart-complete');\n",
              "    }\n",
              "    (() => {\n",
              "      let quickchartButtonEl =\n",
              "        document.querySelector('#df-dd9dc4a7-a96e-43eb-a54a-2ca8cf9b308e button');\n",
              "      quickchartButtonEl.style.display =\n",
              "        google.colab.kernel.accessAllowed ? 'block' : 'none';\n",
              "    })();\n",
              "  </script>\n",
              "</div>\n",
              "    </div>\n",
              "  </div>\n"
            ],
            "text/plain": [
              "                                              postTitle  postDescription  \\\n",
              "0     Assalaamualaikum. Nk tumpang tanya ni, kut2 or...              NaN   \n",
              "1     Assalaamualaikum. Nk tumpang tanya ni, kut2 or...              NaN   \n",
              "2     Assalaamualaikum. Nk tumpang tanya ni, kut2 or...              NaN   \n",
              "3     Assalaamualaikum. Nk tumpang tanya ni, kut2 or...              NaN   \n",
              "4     Assalaamualaikum. Nk tumpang tanya ni, kut2 or...              NaN   \n",
              "...                                                 ...              ...   \n",
              "9123  Kandang Haram Atas Tapak Rizab Masjid Diroboh\\...              NaN   \n",
              "9124  Kandang Haram Atas Tapak Rizab Masjid Diroboh\\...              NaN   \n",
              "9125  Kandang Haram Atas Tapak Rizab Masjid Diroboh\\...              NaN   \n",
              "9126  Kandang Haram Atas Tapak Rizab Masjid Diroboh\\...              NaN   \n",
              "9127  Kandang Haram Atas Tapak Rizab Masjid Diroboh\\...              NaN   \n",
              "\n",
              "                                                   text  likesCount  \\\n",
              "0     Beli racun anai2 ni.. katanya mapuh abis sampa...           0   \n",
              "1     Ustaz kazim ada bgtahu suruh bela semut..sbb a...           0   \n",
              "2     💵💰PINJAMAN WANG BERLESEN  💰💵\\nNak Buat Loan Ta...           0   \n",
              "3                                                   NaN           1   \n",
              "4                                                   NaN           0   \n",
              "...                                                 ...         ...   \n",
              "9123  Org kita xpe jgk. Ini puak depa. Lpstu tuntut ...           0   \n",
              "9124             pelihara lembu.bukan nya   makan lembu           0   \n",
              "9125  Buat aper nak ganti2 atau bagi tanah lain ?.. ...           0   \n",
              "9126           naik kan masjid.. nama pun tapak haram..           0   \n",
              "9127       NK bisness atas tanah free je...dasar biawak           0   \n",
              "\n",
              "                                            facebookUrl  \n",
              "0     https://www.facebook.com/groups/33538423328964...  \n",
              "1     https://www.facebook.com/groups/33538423328964...  \n",
              "2     https://www.facebook.com/groups/33538423328964...  \n",
              "3     https://www.facebook.com/groups/33538423328964...  \n",
              "4     https://www.facebook.com/groups/33538423328964...  \n",
              "...                                                 ...  \n",
              "9123                       https://fb.watch/noGzFLEEnM/  \n",
              "9124                       https://fb.watch/noGzFLEEnM/  \n",
              "9125                       https://fb.watch/noGzFLEEnM/  \n",
              "9126                       https://fb.watch/noGzFLEEnM/  \n",
              "9127                       https://fb.watch/noGzFLEEnM/  \n",
              "\n",
              "[9128 rows x 5 columns]"
            ]
          },
          "execution_count": 7,
          "metadata": {},
          "output_type": "execute_result"
        }
      ],
      "source": [
        "df"
      ]
    },
    {
      "cell_type": "code",
      "execution_count": null,
      "metadata": {
        "colab": {
          "base_uri": "https://localhost:8080/"
        },
        "id": "uHm23mcpZr08",
        "outputId": "c6cf70ea-6775-4b77-f491-6888e1ac0e2c"
      },
      "outputs": [
        {
          "name": "stdout",
          "output_type": "stream",
          "text": [
            "Unique values in 'shortTitle' column:\n",
            "Solusi Masalah Anai-Anai\n",
            "Tiada Malidur Rasul Sejak Pas Memerintah\n",
            "Sampah Sarap\n",
            "Masalah Rohingnya\n",
            "Kerja - Kerja Menaiktaraf Pondok Pantai Taiping\n",
            " Ulangtahun Permashuran MPK\n",
            "Air Melimpah di Taman Banggol Permai\n",
            "Safety Alert\n",
            "Pengasingan Tempat Duduk Mengikut Jantina\n",
            "Pohon mercu bekas Pengkalan Kastam Tumbang\n",
            "Masalah Lembu Berkeliaran\n",
            "Naib Johan Hari Kebangsaan\n",
            "Tandas Awam Padang Astaka\n",
            "Kerja - Kerja Menaiktaraf Prasarana Dan Fasiliti\n",
            "Aduan Bilangan Parking\n",
            "Saman Kereta\n",
            "Mencabut Bendera UMNO\n",
            "Bendera PAS di Jambatan Geliga Dicabut\n",
            "Apply Kerja di MPK\n",
            "Sampah Sarap Dibersih\n",
            "Majlis Makan Malam MPK\n",
            "Kawasan busuk, Tangkungan Air\n",
            "Rumput Tidak Dijaga Rapi\n",
            "Memotong Ranting Pokok di Jalan Raya\n",
            "Hari Terbuka Majlis MPK 2016\n",
            "Membuat Tanah Perkuburan Islam Geliga\n",
            "Meminta Haiwan Ternakan Tidak Berkeliaran\n",
            "Lawatan Kerja di Stadium Panasonic\n",
            "Gotong-Royong\n",
            "Poster Ceramah Anwar Ibrahim Dicabut\n",
            "Perlawanan Bola Sepak MPK VS Taman Koperasi Perdana FC ( TKP FC)\n",
            "Perniaga Tepi Jalan Perlu Mempunyai Permit\n",
            "Masalah Jalan susur keluar dari simpang Kg Pasir Minal menghala ke bandar \n",
            "Masalah di Waterfront Geliga \n",
            "Kesan Penutupan Centre Point Kemaman\n",
            "Penebangan Pokok\n",
            "Kemalangan Disebabkan Lebihan Cement di Atas Jalan\n",
            "Siasatan dan Pengiraan Kos Membaik Pulih Wakaf Waterfront Geliga\n",
            "Cadangan Membina Dewan Terbuka Baharu di Padang Astaka\n",
            "Memohon Tempat Kerja di MPK\n",
            "Keadaan Taman Mainan Pantai Moknik\n",
            "Perbincangan Susunatur Gerai Peniaga di Kuala Kerteh\n",
            "Kandang Haram Atas Tapak Rizab Masjid Diroboh\n",
            "Replika Botol di Pantai Kuala Kertih\n",
            "Kerja - Kerja Penyelenggaraan\n",
            "Jawatan Kosong Di MPK\n",
            "Pengalaman Beli Koupon Parking\n",
            "Aduan signboard\n",
            "Aduan lubang\n",
            "Permintaan pernambahan lokasi jual kupon\n",
            "Aduan jalan dari balai polis ke traffic light batu 2\n",
            "Aduan tandas pantai mok nik\n",
            "Keceriaan bandar chukai\n",
            "Kekurangan air ketika musim hujan\n",
            "Proses meminta lesen berniaga\n",
            "Aduan lori muatan\n",
            "Permintaan kotak\n",
            "Aduan proses membayar saman\n",
            "Permintaan pemasangan pagar jalan sepanjang kampung besut\n",
            "Aduan saman\n",
            "Operasi buang puting rokok\n",
            "Aduan pekerja mpk\n",
            "Musim hujan\n",
            "Lebihan cement\n",
            "Aduan pemandu motor tidak berhemah\n",
            "Kerosakan Taman Permainan di Padang Astaka\n",
            "Ruang Solat di Bazar Ramadhan Padang Astaka\n",
            "Saman Penjual Buah Tepi Jalan\n",
            "Tempoh Sah Resit Parking\n",
            "Permintaan Tong Sampah di Setiap Lorong Rumah\n",
            "Pokok Kaktus di Tepi Jalan\n",
            "Jalan Berlubang di Syarikat Mohd Noor Yusof\n",
            "Jalan Berlubang di Koperasi Perwaja\n",
            "Vandalisme Harta Awam\n",
            "Aduan Gangguan Bunyi\n",
            "Aduan Banting di Traffic Light\n",
            "Aduan Pokok Kelapa Hampir Tumbang\n",
            "Aduan Roundabout Bukit Mentok\n",
            "Aduan Sarang Tebuan di Pantai Mok Nik\n",
            "Aduan Anjing Liar\n",
            "Larangan Berbuka Puasa di Padang Astaka\n",
            "Aduan Taman Permainan di Pantai Mok Nik\n",
            "Aduan Lembu Berkeliaran di Taman Permainan\n",
            "Aduan Jawantan Kosong MPK\n",
            "Aduan Tiang Lampu Hampir Tumbang\n",
            "Aduan Jalan Rosak di Kawasan Perindustrian Teluk Kalong\n",
            "Aduan Penunggang Motor di Laluan Pejalan Kaki\n",
            "Aduan Lori Bauksit di Jalan Geliga\n",
            "Aduan Lori Bauksit\n",
            "Aduan Kerbau Berkeliaran di Jalan Raya\n",
            "Permintaan Membina Bonggol\n",
            "Aduan Kipas Berkarat di Surau Pantai Mok Nik\n",
            "Cadangan Memajukan Tapak Sawmill di Jambatan Geliga\n",
            "Aduan Traffic Light\n",
            "Aduan Pembuangan Sampah Secara Haram\n"
          ]
        }
      ],
      "source": [
        "# Print unique values\n",
        "print(\"Unique values in 'shortTitle' column:\")\n",
        "for value in unique_values:\n",
        "    print(value)"
      ]
    },
    {
      "cell_type": "code",
      "execution_count": null,
      "metadata": {
        "colab": {
          "base_uri": "https://localhost:8080/"
        },
        "id": "BBoWse_e8LSq",
        "outputId": "95867b91-a142-4430-832f-aeea49bf4f78"
      },
      "outputs": [
        {
          "name": "stdout",
          "output_type": "stream",
          "text": [
            "Lines with '-' separator:\n",
            "Aduan lori muatan - Keselamatan Awam\n",
            "Permintaan pemasangan pagar jalan sepanjang kampung besut - Keselamatan Awam\n",
            "Operasi buang puting rokok - Kebersihan\n",
            "Lebihan cement - Keselamatan Awam\n",
            "Aduan pemandu motor tidak berhemah - Keselamatan Awam\n",
            "Kerosakan Taman Permainan di Padang Astaka - Keselamatan Awam\n",
            "Saman Penjual Buah Tepi Jalan - Tindakan MPK\n",
            "Jalan Berlubang di Syarikat Mohd Noor Yusof - Keselamatan Awam\n",
            "Jalan Berlubang di Koperasi Perwaja - Keselamatan Awam\n",
            "Vandalisme Harta Awam - Fasiliti Awam\n",
            "Aduan Banting di Traffic Light - Keselamatan Awam\n",
            "Aduan Pokok Kelapa Hampir Tumbang - Keselamatan Awam\n",
            "Aduan Sarang Tebuan di Pantai Mok Nik - Haiwan\n",
            "Aduan Anjing Liar - Haiwan\n",
            "Larangan Berbuka Puasa di Padang Astaka - Kebersihan\n",
            "Aduan Taman Permainan di Pantai Mok Nik - Keselamatan Awam\n",
            "Aduan Lembu Berkeliaran di Taman Permainan - Haiwan\n",
            "Aduan Tiang Lampu Hampir Tumbang - Keselamatan Awam\n",
            "Aduan Jalan Rosak di Kawasan Perindustrian Teluk Kalong - Keselamatan Awam\n",
            "Aduan Penunggang Motor di Laluan Pejalan Kaki - Keselamatan Awam\n",
            "Aduan Lori Bauksit di Jalan Geliga - Keselamatan Awam\n",
            "Aduan Lori Bauksit - Keselamatan Awam\n",
            "Aduan Kerbau Berkeliaran di Jalan Raya - Haiwan\n",
            "Aduan Kipas Berkarat di Surau Pantai Mok Nik - Keselamatan Awam\n",
            "Aduan Pembuangan Sampah Secara Haram - Kebersihan\n",
            "\n",
            "Lines without '-' separator:\n",
            "Permintaan kotak\n",
            "Aduan proses membayar saman\n",
            "Aduan saman\n",
            "Aduan pekerja mpk\n",
            "Musim hujan\n",
            "Ruang Solat di Bazar Ramadhan Padang Astaka\n",
            "Tempoh Sah Resit Parking\n",
            "Permintaan Tong Sampah di Setiap Lorong Rumah\n",
            "Pokok Kaktus di Tepi Jalan\n",
            "Aduan Gangguan Bunyi\n",
            "Aduan Roundabout Bukit Mentok\n",
            "Aduan Jawantan Kosong MPK\n",
            "Permintaan Membina Bonggol\n",
            "Cadangan Memajukan Tapak Sawmill di Jambatan Geliga\n",
            "Aduan Traffic Light\n"
          ]
        }
      ],
      "source": [
        "data = [\n",
        "    'Aduan lori muatan - Keselamatan Awam',\n",
        "    'Permintaan kotak',\n",
        "    'Aduan proses membayar saman',\n",
        "    'Permintaan pemasangan pagar jalan sepanjang kampung besut - Keselamatan Awam',\n",
        "    'Aduan saman',\n",
        "    'Operasi buang puting rokok - Kebersihan',\n",
        "    'Aduan pekerja mpk',\n",
        "    'Musim hujan',\n",
        "    'Lebihan cement - Keselamatan Awam',\n",
        "    'Aduan pemandu motor tidak berhemah - Keselamatan Awam',\n",
        "    'Kerosakan Taman Permainan di Padang Astaka - Keselamatan Awam',\n",
        "    'Ruang Solat di Bazar Ramadhan Padang Astaka',\n",
        "    'Saman Penjual Buah Tepi Jalan - Tindakan MPK',\n",
        "    'Tempoh Sah Resit Parking',\n",
        "    'Permintaan Tong Sampah di Setiap Lorong Rumah',\n",
        "    'Pokok Kaktus di Tepi Jalan',\n",
        "    'Jalan Berlubang di Syarikat Mohd Noor Yusof - Keselamatan Awam',\n",
        "    'Jalan Berlubang di Koperasi Perwaja - Keselamatan Awam',\n",
        "    'Vandalisme Harta Awam - Fasiliti Awam',\n",
        "    'Aduan Gangguan Bunyi',\n",
        "    'Aduan Banting di Traffic Light - Keselamatan Awam',\n",
        "    'Aduan Pokok Kelapa Hampir Tumbang - Keselamatan Awam',\n",
        "    'Aduan Roundabout Bukit Mentok',\n",
        "    'Aduan Sarang Tebuan di Pantai Mok Nik - Haiwan',\n",
        "    'Aduan Anjing Liar - Haiwan',\n",
        "    'Larangan Berbuka Puasa di Padang Astaka - Kebersihan',\n",
        "    'Aduan Taman Permainan di Pantai Mok Nik - Keselamatan Awam',\n",
        "    'Aduan Lembu Berkeliaran di Taman Permainan - Haiwan',\n",
        "    'Aduan Jawantan Kosong MPK',\n",
        "    'Aduan Tiang Lampu Hampir Tumbang - Keselamatan Awam',\n",
        "    'Aduan Jalan Rosak di Kawasan Perindustrian Teluk Kalong - Keselamatan Awam',\n",
        "    'Aduan Penunggang Motor di Laluan Pejalan Kaki - Keselamatan Awam',\n",
        "    'Aduan Lori Bauksit di Jalan Geliga - Keselamatan Awam',\n",
        "    'Aduan Lori Bauksit - Keselamatan Awam',\n",
        "    'Aduan Kerbau Berkeliaran di Jalan Raya - Haiwan',\n",
        "    'Permintaan Membina Bonggol',\n",
        "    'Aduan Kipas Berkarat di Surau Pantai Mok Nik - Keselamatan Awam',\n",
        "    'Cadangan Memajukan Tapak Sawmill di Jambatan Geliga',\n",
        "    'Aduan Traffic Light',\n",
        "    'Aduan Pembuangan Sampah Secara Haram - Kebersihan'\n",
        "]\n",
        "\n",
        "# Iterate through the data and print lines with '-' and without it separately\n",
        "print(\"Lines with '-' separator:\")\n",
        "for line in data:\n",
        "    if '-' in line:\n",
        "        print(line)\n",
        "\n",
        "print(\"\\nLines without '-' separator:\")\n",
        "for line in data:\n",
        "    if '-' not in line:\n",
        "        print(line)\n"
      ]
    },
    {
      "cell_type": "code",
      "execution_count": null,
      "metadata": {
        "id": "kGZeJlCb1WO4"
      },
      "outputs": [],
      "source": [
        "from collections import Counter"
      ]
    },
    {
      "cell_type": "code",
      "execution_count": null,
      "metadata": {
        "colab": {
          "base_uri": "https://localhost:8080/"
        },
        "id": "RRyH91Jv1Yyn",
        "outputId": "ece916c8-6905-48ee-8319-63d9a7ad50fd"
      },
      "outputs": [
        {
          "name": "stdout",
          "output_type": "stream",
          "text": [
            "di: 28\n",
            "Aduan: 28\n",
            "Jalan: 11\n",
            "Kerja: 9\n",
            "MPK: 8\n",
            "Pantai: 6\n",
            "Taman: 6\n",
            "Geliga: 6\n",
            "Masalah: 5\n",
            "Padang: 5\n",
            "Astaka: 5\n",
            "Permintaan: 5\n",
            "Sampah: 4\n",
            "Berkeliaran: 4\n",
            "Pokok: 4\n",
            "-: 3\n",
            "Tumbang: 3\n",
            "Parking: 3\n",
            "Tepi: 3\n",
            "Permainan: 3\n",
            "Mok: 3\n",
            "Nik: 3\n",
            "Sarap: 2\n",
            "Menaiktaraf: 2\n",
            "Air: 2\n",
            "Tempat: 2\n",
            "Lembu: 2\n",
            "Hari: 2\n",
            "Awam: 2\n",
            "Saman: 2\n"
          ]
        }
      ],
      "source": [
        "\n",
        "# List of strings\n",
        "strings = [\n",
        "        'Solusi Masalah Anai-Anai',\n",
        "       'Tiada Malidur Rasul Sejak Pas Memerintah', 'Sampah Sarap',\n",
        "       'Masalah Rohingnya',\n",
        "       'Kerja - Kerja Menaiktaraf Pondok Pantai Taiping',\n",
        "       ' Ulangtahun Permashuran MPK',\n",
        "       'Air Melimpah di Taman Banggol Permai', 'Safety Alert',\n",
        "       'Pengasingan Tempat Duduk Mengikut Jantina',\n",
        "       'Pohon mercu bekas Pengkalan Kastam Tumbang',\n",
        "       'Masalah Lembu Berkeliaran', 'Naib Johan Hari Kebangsaan',\n",
        "       'Tandas Awam Padang Astaka',\n",
        "       'Kerja - Kerja Menaiktaraf Prasarana Dan Fasiliti',\n",
        "       'Aduan Bilangan Parking', 'Saman Kereta', 'Mencabut Bendera UMNO',\n",
        "       'Bendera PAS di Jambatan Geliga Dicabut', 'Apply Kerja di MPK',\n",
        "       'Sampah Sarap Dibersih', 'Majlis Makan Malam MPK',\n",
        "       'Kawasan busuk, Tangkungan Air', 'Rumput Tidak Dijaga Rapi',\n",
        "       'Memotong Ranting Pokok di Jalan Raya',\n",
        "       'Hari Terbuka Majlis MPK 2016',\n",
        "       'Membuat Tanah Perkuburan Islam Geliga',\n",
        "       'Meminta Haiwan Ternakan Tidak Berkeliaran',\n",
        "       'Lawatan Kerja di Stadium Panasonic', 'Gotong-Royong',\n",
        "       'Poster Ceramah Anwar Ibrahim Dicabut',\n",
        "       'Perlawanan Bola Sepak MPK VS Taman Koperasi Perdana FC ( TKP FC)',\n",
        "       'Perniaga Tepi Jalan Perlu Mempunyai Permit',\n",
        "       'Masalah Jalan susur keluar dari simpang Kg Pasir Minal menghala ke bandar ',\n",
        "       'Masalah di Waterfront Geliga ',\n",
        "       'Kesan Penutupan Centre Point Kemaman', 'Penebangan Pokok',\n",
        "       'Kemalangan Disebabkan Lebihan Cement di Atas Jalan',\n",
        "       'Siasatan dan Pengiraan Kos Membaik Pulih Wakaf Waterfront Geliga',\n",
        "       'Cadangan Membina Dewan Terbuka Baharu di Padang Astaka',\n",
        "       'Memohon Tempat Kerja di MPK',\n",
        "       'Keadaan Taman Mainan Pantai Moknik',\n",
        "       'Perbincangan Susunatur Gerai Peniaga di Kuala Kerteh',\n",
        "       'Kandang Haram Atas Tapak Rizab Masjid Diroboh',\n",
        "       'Replika Botol di Pantai Kuala Kertih',\n",
        "       'Kerja - Kerja Penyelenggaraan', 'Jawatan Kosong Di MPK',\n",
        "       'Pengalaman Beli Koupon Parking', 'Aduan signboard',\n",
        "       'Aduan lubang', 'Permintaan pernambahan lokasi jual kupon',\n",
        "       'Aduan jalan dari balai polis ke traffic light batu 2',\n",
        "       'Aduan tandas pantai mok nik', 'Keceriaan bandar chukai',\n",
        "       'Kekurangan air ketika musim hujan',\n",
        "       'Proses meminta lesen berniaga', 'Aduan lori muatan',\n",
        "       'Permintaan kotak', 'Aduan proses membayar saman',\n",
        "       'Permintaan pemasangan pagar jalan sepanjang kampung besut',\n",
        "       'Aduan saman', 'Operasi buang puting rokok', 'Aduan pekerja mpk',\n",
        "       'Musim hujan', 'Lebihan cement',\n",
        "       'Aduan pemandu motor tidak berhemah',\n",
        "       'Kerosakan Taman Permainan di Padang Astaka',\n",
        "       'Ruang Solat di Bazar Ramadhan Padang Astaka',\n",
        "       'Saman Penjual Buah Tepi Jalan', 'Tempoh Sah Resit Parking',\n",
        "       'Permintaan Tong Sampah di Setiap Lorong Rumah',\n",
        "       'Pokok Kaktus di Tepi Jalan',\n",
        "       'Jalan Berlubang di Syarikat Mohd Noor Yusof',\n",
        "       'Jalan Berlubang di Koperasi Perwaja', 'Vandalisme Harta Awam',\n",
        "       'Aduan Gangguan Bunyi', 'Aduan Banting di Traffic Light',\n",
        "       'Aduan Pokok Kelapa Hampir Tumbang',\n",
        "       'Aduan Roundabout Bukit Mentok',\n",
        "       'Aduan Sarang Tebuan di Pantai Mok Nik', 'Aduan Anjing Liar',\n",
        "       'Larangan Berbuka Puasa di Padang Astaka',\n",
        "       'Aduan Taman Permainan di Pantai Mok Nik',\n",
        "       'Aduan Lembu Berkeliaran di Taman Permainan',\n",
        "       'Aduan Jawantan Kosong MPK', 'Aduan Tiang Lampu Hampir Tumbang',\n",
        "       'Aduan Jalan Rosak di Kawasan Perindustrian Teluk Kalong',\n",
        "       'Aduan Penunggang Motor di Laluan Pejalan Kaki',\n",
        "       'Aduan Lori Bauksit di Jalan Geliga', 'Aduan Lori Bauksit',\n",
        "       'Aduan Kerbau Berkeliaran di Jalan Raya',\n",
        "       'Permintaan Membina Bonggol',\n",
        "       'Aduan Kipas Berkarat di Surau Pantai Mok Nik',\n",
        "       'Cadangan Memajukan Tapak Sawmill di Jambatan Geliga',\n",
        "       'Aduan Traffic Light', 'Aduan Pembuangan Sampah Secara Haram'\n",
        "]\n",
        "\n",
        "# Combine all strings into one big text\n",
        "text = ' '.join(strings)\n",
        "\n",
        "word_frequencies = Counter(text.split())\n",
        "\n",
        "# Get the top 10 most frequent words\n",
        "top_10_words = word_frequencies.most_common(30)\n",
        "\n",
        "# Print the top 10 words and their frequencies\n",
        "for word, frequency in top_10_words:\n",
        "    print(f'{word}: {frequency}')"
      ]
    },
    {
      "cell_type": "code",
      "execution_count": null,
      "metadata": {
        "id": "nONjGmACaLqp"
      },
      "outputs": [],
      "source": [
        "comment_counts = df.groupby('postTitle')['comment'].count().reset_index()\n",
        "\n",
        "# Rename the 'comment' column to 'commentCount' for clarity\n",
        "comment_counts = comment_counts.rename(columns={'comment': 'commentCount'})\n",
        "\n",
        "# Print the comment counts for each postTitle\n",
        "print(comment_counts)"
      ]
    },
    {
      "cell_type": "markdown",
      "metadata": {
        "id": "q4V_w2Vtbxvu"
      },
      "source": [
        "HORIZONTAL BAR CHART"
      ]
    },
    {
      "cell_type": "code",
      "execution_count": null,
      "metadata": {
        "colab": {
          "base_uri": "https://localhost:8080/",
          "height": 607
        },
        "id": "p4QOv_rJax2O",
        "outputId": "c83ea049-7f73-496b-a3d2-77d975afb242"
      },
      "outputs": [
        {
          "data": {
            "image/png": "[encoded data removed]",
            "text/plain": [
              "<Figure size 1000x600 with 1 Axes>"
            ]
          },
          "metadata": {},
          "output_type": "display_data"
        }
      ],
      "source": [
        "comment_counts = df.groupby('postTitle')['comment'].count().reset_index()\n",
        "\n",
        "# Rename the 'comment' column to 'commentCount' for clarity\n",
        "comment_counts = comment_counts.rename(columns={'comment': 'commentCount'})\n",
        "\n",
        "# Sort the data by commentCount in descending order for better visualization\n",
        "comment_counts = comment_counts.sort_values(by='commentCount', ascending=False)\n",
        "\n",
        "# Create a horizontal bar chart\n",
        "plt.figure(figsize=(10, 6))  # Adjust the figure size as needed\n",
        "bars = plt.barh(comment_counts['postTitle'], comment_counts['commentCount'])\n",
        "plt.xlabel('Comment Count')\n",
        "plt.ylabel('Post Title')\n",
        "plt.title('Comment Counts by Post Title (Horizontal Bar Chart)')\n",
        "\n",
        "# Add values on the right of the bars\n",
        "for bar in bars:\n",
        "    width = bar.get_width()\n",
        "    plt.annotate(f'{width}',\n",
        "                 xy=(width, bar.get_y() + bar.get_height() / 2),\n",
        "                 xytext=(3, 0),  # 3 points horizontal offset\n",
        "                 textcoords=\"offset points\",\n",
        "                 ha='left', va='center')\n",
        "\n",
        "# Show the plot\n",
        "plt.tight_layout()\n",
        "plt.show()\n"
      ]
    },
    {
      "cell_type": "markdown",
      "metadata": {
        "id": "PueSQ29Cuj84"
      },
      "source": [
        "REPLACE TEXT"
      ]
    },
    {
      "cell_type": "code",
      "execution_count": null,
      "metadata": {
        "id": "kkOQEnp7ujLK"
      },
      "outputs": [],
      "source": [
        "file_path = '/content/drive/MyDrive/Data Cleaning/Data_merge_revision.xlsx'"
      ]
    },
    {
      "cell_type": "code",
      "execution_count": null,
      "metadata": {
        "id": "_7FO6cWsu7K7"
      },
      "outputs": [],
      "source": [
        "df = pd.read_excel(file_path)"
      ]
    },
    {
      "cell_type": "code",
      "execution_count": null,
      "metadata": {
        "id": "JzSygsUivDpq"
      },
      "outputs": [],
      "source": [
        "# Define the column name where you want to perform the replacement\n",
        "column_name = 'shortTitle'\n",
        "\n",
        "# Define the string to search for in each cell\n",
        "search_string =  'Aduan Penunggang Motor di Laluan Pejalan Kaki'\n",
        "replacement_string = 'Keselamatan Awam'\n",
        "# Iterate through the DataFrame and replace only the rows where the search string exists\n",
        "for index, row in df.iterrows():\n",
        "    if search_string in str(row[column_name]):\n",
        "        df.at[index, 'Kategori'] = replacement_string"
      ]
    },
    {
      "cell_type": "code",
      "execution_count": null,
      "metadata": {
        "id": "TyBStDvLQtnB"
      },
      "outputs": [],
      "source": [
        "new_fila_path = '/content/drive/MyDrive/Data Cleaning/Data_merge_revision.xlsx'"
      ]
    },
    {
      "cell_type": "code",
      "execution_count": null,
      "metadata": {
        "colab": {
          "base_uri": "https://localhost:8080/"
        },
        "id": "2FFwX6J9zR4m",
        "outputId": "9cdf781a-f2dc-430c-f34e-eca823df123e"
      },
      "outputs": [
        {
          "name": "stdout",
          "output_type": "stream",
          "text": [
            "DataFrame exported to /content/drive/MyDrive/Data Cleaning/Data_merge_revision.xlsx\n"
          ]
        }
      ],
      "source": [
        "# Export the DataFrame to the specified Excel file\n",
        "df.to_excel(new_fila_path, index=False)\n",
        "\n",
        "print(f\"DataFrame exported to {new_fila_path }\")"
      ]
    },
    {
      "cell_type": "code",
      "execution_count": null,
      "metadata": {
        "id": "Ng0M8Ygb-81D",
        "colab": {
          "base_uri": "https://localhost:8080/"
        },
        "outputId": "c31e5723-0fe0-4e27-a73b-37a36b90f58d"
      },
      "outputs": [
        {
          "output_type": "stream",
          "name": "stdout",
          "text": [
            "Requirement already satisfied: pandas in /usr/local/lib/python3.10/dist-packages (1.5.3)\n",
            "Collecting googletrans==4.0.0-rc1\n",
            "  Downloading googletrans-4.0.0rc1.tar.gz (20 kB)\n",
            "  Preparing metadata (setup.py) ... \u001b[?25l\u001b[?25hdone\n",
            "Requirement already satisfied: openpyxl in /usr/local/lib/python3.10/dist-packages (3.1.2)\n",
            "Collecting httpx==0.13.3 (from googletrans==4.0.0-rc1)\n",
            "  Downloading httpx-0.13.3-py3-none-any.whl (55 kB)\n",
            "\u001b[2K     \u001b[90m━━━━━━━━━━━━━━━━━━━━━━━━━━━━━━━━━━━━━━━━\u001b[0m \u001b[32m55.1/55.1 kB\u001b[0m \u001b[31m2.8 MB/s\u001b[0m eta \u001b[36m0:00:00\u001b[0m\n",
            "\u001b[?25hRequirement already satisfied: certifi in /usr/local/lib/python3.10/dist-packages (from httpx==0.13.3->googletrans==4.0.0-rc1) (2023.7.22)\n",
            "Collecting hstspreload (from httpx==0.13.3->googletrans==4.0.0-rc1)\n",
            "  Downloading hstspreload-2023.1.1-py3-none-any.whl (1.5 MB)\n",
            "\u001b[2K     \u001b[90m━━━━━━━━━━━━━━━━━━━━━━━━━━━━━━━━━━━━━━━━\u001b[0m \u001b[32m1.5/1.5 MB\u001b[0m \u001b[31m15.4 MB/s\u001b[0m eta \u001b[36m0:00:00\u001b[0m\n",
            "\u001b[?25hRequirement already satisfied: sniffio in /usr/local/lib/python3.10/dist-packages (from httpx==0.13.3->googletrans==4.0.0-rc1) (1.3.0)\n",
            "Collecting chardet==3.* (from httpx==0.13.3->googletrans==4.0.0-rc1)\n",
            "  Downloading chardet-3.0.4-py2.py3-none-any.whl (133 kB)\n",
            "\u001b[2K     \u001b[90m━━━━━━━━━━━━━━━━━━━━━━━━━━━━━━━━━━━━━━\u001b[0m \u001b[32m133.4/133.4 kB\u001b[0m \u001b[31m10.6 MB/s\u001b[0m eta \u001b[36m0:00:00\u001b[0m\n",
            "\u001b[?25hCollecting idna==2.* (from httpx==0.13.3->googletrans==4.0.0-rc1)\n",
            "  Downloading idna-2.10-py2.py3-none-any.whl (58 kB)\n",
            "\u001b[2K     \u001b[90m━━━━━━━━━━━━━━━━━━━━━━━━━━━━━━━━━━━━━━━━\u001b[0m \u001b[32m58.8/58.8 kB\u001b[0m \u001b[31m6.9 MB/s\u001b[0m eta \u001b[36m0:00:00\u001b[0m\n",
            "\u001b[?25hCollecting rfc3986<2,>=1.3 (from httpx==0.13.3->googletrans==4.0.0-rc1)\n",
            "  Downloading rfc3986-1.5.0-py2.py3-none-any.whl (31 kB)\n",
            "Collecting httpcore==0.9.* (from httpx==0.13.3->googletrans==4.0.0-rc1)\n",
            "  Downloading httpcore-0.9.1-py3-none-any.whl (42 kB)\n",
            "\u001b[2K     \u001b[90m━━━━━━━━━━━━━━━━━━━━━━━━━━━━━━━━━━━━━━━━\u001b[0m \u001b[32m42.6/42.6 kB\u001b[0m \u001b[31m4.6 MB/s\u001b[0m eta \u001b[36m0:00:00\u001b[0m\n",
            "\u001b[?25hCollecting h11<0.10,>=0.8 (from httpcore==0.9.*->httpx==0.13.3->googletrans==4.0.0-rc1)\n",
            "  Downloading h11-0.9.0-py2.py3-none-any.whl (53 kB)\n",
            "\u001b[2K     \u001b[90m━━━━━━━━━━━━━━━━━━━━━━━━━━━━━━━━━━━━━━━━\u001b[0m \u001b[32m53.6/53.6 kB\u001b[0m \u001b[31m6.4 MB/s\u001b[0m eta \u001b[36m0:00:00\u001b[0m\n",
            "\u001b[?25hCollecting h2==3.* (from httpcore==0.9.*->httpx==0.13.3->googletrans==4.0.0-rc1)\n",
            "  Downloading h2-3.2.0-py2.py3-none-any.whl (65 kB)\n",
            "\u001b[2K     \u001b[90m━━━━━━━━━━━━━━━━━━━━━━━━━━━━━━━━━━━━━━━━\u001b[0m \u001b[32m65.0/65.0 kB\u001b[0m \u001b[31m7.5 MB/s\u001b[0m eta \u001b[36m0:00:00\u001b[0m\n",
            "\u001b[?25hCollecting hyperframe<6,>=5.2.0 (from h2==3.*->httpcore==0.9.*->httpx==0.13.3->googletrans==4.0.0-rc1)\n",
            "  Downloading hyperframe-5.2.0-py2.py3-none-any.whl (12 kB)\n",
            "Collecting hpack<4,>=3.0 (from h2==3.*->httpcore==0.9.*->httpx==0.13.3->googletrans==4.0.0-rc1)\n",
            "  Downloading hpack-3.0.0-py2.py3-none-any.whl (38 kB)\n",
            "Requirement already satisfied: python-dateutil>=2.8.1 in /usr/local/lib/python3.10/dist-packages (from pandas) (2.8.2)\n",
            "Requirement already satisfied: pytz>=2020.1 in /usr/local/lib/python3.10/dist-packages (from pandas) (2023.3.post1)\n",
            "Requirement already satisfied: numpy>=1.21.0 in /usr/local/lib/python3.10/dist-packages (from pandas) (1.23.5)\n",
            "Requirement already satisfied: et-xmlfile in /usr/local/lib/python3.10/dist-packages (from openpyxl) (1.1.0)\n",
            "Requirement already satisfied: six>=1.5 in /usr/local/lib/python3.10/dist-packages (from python-dateutil>=2.8.1->pandas) (1.16.0)\n",
            "Building wheels for collected packages: googletrans\n",
            "  Building wheel for googletrans (setup.py) ... \u001b[?25l\u001b[?25hdone\n",
            "  Created wheel for googletrans: filename=googletrans-4.0.0rc1-py3-none-any.whl size=17396 sha256=e7509de457bd5bc73950fe8d47b6075f567a7d0e60654e8ee481cd0aaf7c4886\n",
            "  Stored in directory: /root/.cache/pip/wheels/c0/59/9f/7372f0cf70160fe61b528532e1a7c8498c4becd6bcffb022de\n",
            "Successfully built googletrans\n",
            "Installing collected packages: rfc3986, hyperframe, hpack, h11, chardet, idna, hstspreload, h2, httpcore, httpx, googletrans\n",
            "  Attempting uninstall: chardet\n",
            "    Found existing installation: chardet 5.2.0\n",
            "    Uninstalling chardet-5.2.0:\n",
            "      Successfully uninstalled chardet-5.2.0\n",
            "  Attempting uninstall: idna\n",
            "    Found existing installation: idna 3.4\n",
            "    Uninstalling idna-3.4:\n",
            "      Successfully uninstalled idna-3.4\n",
            "Successfully installed chardet-3.0.4 googletrans-4.0.0rc1 h11-0.9.0 h2-3.2.0 hpack-3.0.0 hstspreload-2023.1.1 httpcore-0.9.1 httpx-0.13.3 hyperframe-5.2.0 idna-2.10 rfc3986-1.5.0\n"
          ]
        }
      ],
      "source": [
        "pip install pandas googletrans==4.0.0-rc1 openpyxl"
      ]
    },
    {
      "cell_type": "code",
      "execution_count": null,
      "metadata": {
        "colab": {
          "base_uri": "https://localhost:8080/",
          "height": 87
        },
        "id": "4e15D_w5_Bo3",
        "outputId": "391d339d-3b1b-4950-d9a9-6a5abebbc6ac"
      },
      "outputs": [
        {
          "output_type": "execute_result",
          "data": {
            "text/plain": [
              "'\\nexcel_file = \\'/content/drive/MyDrive/Data Cleaning/Testing.xlsx\\'  # Replace with your Excel file path\\ndf = pd.read_excel(excel_file)\\n\\n# Translate the text in the specified column (e.g., \\'TextColumn\\') and store the translations in a new column\\ndf[\\'Translated_Text\\'] = df[\\'text\\'].apply(translate_text)\\n\\n# Save the translated data back to the Excel file\\nwith pd.ExcelWriter(excel_file, engine=\\'openpyxl\\') as writer:\\n    writer.book = load_workbook(excel_file)\\n    df.to_excel(writer, sheet_name=\\'New_sheet\\', index=False)\\n\\nprint(\"Translation complete. Data saved to Excel file.\")\\n'"
            ],
            "application/vnd.google.colaboratory.intrinsic+json": {
              "type": "string"
            }
          },
          "metadata": {},
          "execution_count": 8
        }
      ],
      "source": [
        "import pandas as pd\n",
        "from googletrans import Translator\n",
        "from googletrans.constants import LANGUAGES\n",
        "from openpyxl import load_workbook\n",
        "\n",
        "'''\n",
        "excel_file = '/content/drive/MyDrive/Data Cleaning/Testing.xlsx'  # Replace with your Excel file path\n",
        "df = pd.read_excel(excel_file)\n",
        "\n",
        "# Translate the text in the specified column (e.g., 'TextColumn') and store the translations in a new column\n",
        "df['Translated_Text'] = df['text'].apply(translate_text)\n",
        "\n",
        "# Save the translated data back to the Excel file\n",
        "with pd.ExcelWriter(excel_file, engine='openpyxl') as writer:\n",
        "    writer.book = load_workbook(excel_file)\n",
        "    df.to_excel(writer, sheet_name='New_sheet', index=False)\n",
        "\n",
        "print(\"Translation complete. Data saved to Excel file.\")\n",
        "'''"
      ]
    },
    {
      "cell_type": "code",
      "source": [
        "!pip install pandas\n",
        "import pandas as pd"
      ],
      "metadata": {
        "colab": {
          "base_uri": "https://localhost:8080/"
        },
        "id": "8nO3UnhLv9es",
        "outputId": "19444c6a-e1b2-4352-eb0a-0443083529fc"
      },
      "execution_count": null,
      "outputs": [
        {
          "output_type": "stream",
          "name": "stdout",
          "text": [
            "Requirement already satisfied: pandas in /usr/local/lib/python3.10/dist-packages (1.5.3)\n",
            "Requirement already satisfied: python-dateutil>=2.8.1 in /usr/local/lib/python3.10/dist-packages (from pandas) (2.8.2)\n",
            "Requirement already satisfied: pytz>=2020.1 in /usr/local/lib/python3.10/dist-packages (from pandas) (2023.3.post1)\n",
            "Requirement already satisfied: numpy>=1.21.0 in /usr/local/lib/python3.10/dist-packages (from pandas) (1.23.5)\n",
            "Requirement already satisfied: six>=1.5 in /usr/local/lib/python3.10/dist-packages (from python-dateutil>=2.8.1->pandas) (1.16.0)\n"
          ]
        }
      ]
    },
    {
      "cell_type": "code",
      "source": [
        "from google.colab import drive\n",
        "drive.mount('/content/drive')"
      ],
      "metadata": {
        "colab": {
          "base_uri": "https://localhost:8080/"
        },
        "id": "bM4PtgAulBJT",
        "outputId": "8c55890d-2e43-49fa-88b7-bb3fee3bde49"
      },
      "execution_count": null,
      "outputs": [
        {
          "output_type": "stream",
          "name": "stdout",
          "text": [
            "Drive already mounted at /content/drive; to attempt to forcibly remount, call drive.mount(\"/content/drive\", force_remount=True).\n"
          ]
        }
      ]
    },
    {
      "cell_type": "code",
      "source": [
        "file_path = '/content/drive/MyDrive/Dataset.xlsx'"
      ],
      "metadata": {
        "id": "gcINuwdslD9W"
      },
      "execution_count": null,
      "outputs": []
    },
    {
      "cell_type": "code",
      "source": [
        "df = pd.read_excel(file_path)\n",
        "\n",
        "df['Year'] = df['Date'].dt.year\n",
        "\n",
        "# Save the modified data to a new Excel file\n",
        "output_excel_file = 'output_excel_file.xlsx'\n",
        "df.to_excel(output_excel_file, index=False)\n",
        "\n",
        "file_output = '/content/drive/MyDrive/Dataset_Clean.xlsx'\n",
        "print(\"Year extracted and saved to\", file_output)"
      ],
      "metadata": {
        "colab": {
          "base_uri": "https://localhost:8080/"
        },
        "id": "vG-K6v19llYF",
        "outputId": "5c178f8b-e82a-48d9-b63a-83a232a27c20"
      },
      "execution_count": null,
      "outputs": [
        {
          "output_type": "stream",
          "name": "stdout",
          "text": [
            "Year extracted and saved to /content/drive/MyDrive/Dataset_Clean.xlsx\n"
          ]
        }
      ]
    }
  ],
  "metadata": {
    "colab": {
      "provenance": []
    },
    "kernelspec": {
      "display_name": "Python 3",
      "name": "python3"
    },
    "language_info": {
      "name": "python"
    }
  },
  "nbformat": 4,
  "nbformat_minor": 0
}